{
 "cells": [
  {
   "cell_type": "markdown",
   "id": "27cbe861",
   "metadata": {},
   "source": [
    "    Experiments with spaCy entity recognition model"
   ]
  },
  {
   "cell_type": "markdown",
   "id": "fe566994",
   "metadata": {},
   "source": [
    "## Imports"
   ]
  },
  {
   "cell_type": "code",
   "execution_count": 1,
   "id": "33f2f907",
   "metadata": {},
   "outputs": [
    {
     "name": "stdout",
     "output_type": "stream",
     "text": [
      "Requirement already satisfied: spacy in d:\\anaconda\\lib\\site-packages (3.3.1)\n",
      "Requirement already satisfied: murmurhash<1.1.0,>=0.28.0 in d:\\anaconda\\lib\\site-packages (from spacy) (1.0.7)\n",
      "Requirement already satisfied: spacy-legacy<3.1.0,>=3.0.9 in d:\\anaconda\\lib\\site-packages (from spacy) (3.0.9)\n",
      "Requirement already satisfied: blis<0.8.0,>=0.4.0 in d:\\anaconda\\lib\\site-packages (from spacy) (0.7.7)\n",
      "Requirement already satisfied: cymem<2.1.0,>=2.0.2 in d:\\anaconda\\lib\\site-packages (from spacy) (2.0.6)\n",
      "Requirement already satisfied: packaging>=20.0 in d:\\anaconda\\lib\\site-packages (from spacy) (20.9)\n",
      "Requirement already satisfied: preshed<3.1.0,>=3.0.2 in d:\\anaconda\\lib\\site-packages (from spacy) (3.0.6)\n",
      "Requirement already satisfied: tqdm<5.0.0,>=4.38.0 in d:\\anaconda\\lib\\site-packages (from spacy) (4.59.0)\n",
      "Requirement already satisfied: catalogue<2.1.0,>=2.0.6 in d:\\anaconda\\lib\\site-packages (from spacy) (2.0.7)\n",
      "Requirement already satisfied: srsly<3.0.0,>=2.4.3 in d:\\anaconda\\lib\\site-packages (from spacy) (2.4.3)\n",
      "Requirement already satisfied: spacy-loggers<2.0.0,>=1.0.0 in d:\\anaconda\\lib\\site-packages (from spacy) (1.0.2)\n",
      "Requirement already satisfied: jinja2 in d:\\anaconda\\lib\\site-packages (from spacy) (2.11.3)\n",
      "Requirement already satisfied: typer<0.5.0,>=0.3.0 in d:\\anaconda\\lib\\site-packages (from spacy) (0.4.1)\n",
      "Requirement already satisfied: pathy>=0.3.5 in d:\\anaconda\\lib\\site-packages (from spacy) (0.6.1)\n",
      "Requirement already satisfied: langcodes<4.0.0,>=3.2.0 in d:\\anaconda\\lib\\site-packages (from spacy) (3.3.0)\n",
      "Requirement already satisfied: pydantic!=1.8,!=1.8.1,<1.9.0,>=1.7.4 in d:\\anaconda\\lib\\site-packages (from spacy) (1.8.2)\n",
      "Requirement already satisfied: setuptools in d:\\anaconda\\lib\\site-packages (from spacy) (52.0.0.post20210125)\n",
      "Requirement already satisfied: thinc<8.1.0,>=8.0.14 in d:\\anaconda\\lib\\site-packages (from spacy) (8.0.17)\n",
      "Requirement already satisfied: numpy>=1.15.0 in d:\\anaconda\\lib\\site-packages (from spacy) (1.20.1)\n",
      "Requirement already satisfied: requests<3.0.0,>=2.13.0 in d:\\anaconda\\lib\\site-packages (from spacy) (2.25.1)\n",
      "Requirement already satisfied: wasabi<1.1.0,>=0.9.1 in d:\\anaconda\\lib\\site-packages (from spacy) (0.9.1)\n",
      "Requirement already satisfied: pyparsing>=2.0.2 in d:\\anaconda\\lib\\site-packages (from packaging>=20.0->spacy) (2.4.7)\n",
      "Requirement already satisfied: smart-open<6.0.0,>=5.0.0 in d:\\anaconda\\lib\\site-packages (from pathy>=0.3.5->spacy) (5.2.1)\n",
      "Requirement already satisfied: typing-extensions>=3.7.4.3 in d:\\anaconda\\lib\\site-packages (from pydantic!=1.8,!=1.8.1,<1.9.0,>=1.7.4->spacy) (3.7.4.3)\n",
      "Requirement already satisfied: certifi>=2017.4.17 in d:\\anaconda\\lib\\site-packages (from requests<3.0.0,>=2.13.0->spacy) (2020.12.5)\n",
      "Requirement already satisfied: idna<3,>=2.5 in d:\\anaconda\\lib\\site-packages (from requests<3.0.0,>=2.13.0->spacy) (2.10)\n",
      "Requirement already satisfied: chardet<5,>=3.0.2 in d:\\anaconda\\lib\\site-packages (from requests<3.0.0,>=2.13.0->spacy) (4.0.0)\n",
      "Requirement already satisfied: urllib3<1.27,>=1.21.1 in d:\\anaconda\\lib\\site-packages (from requests<3.0.0,>=2.13.0->spacy) (1.26.4)\n",
      "Requirement already satisfied: click<9.0.0,>=7.1.1 in d:\\anaconda\\lib\\site-packages (from typer<0.5.0,>=0.3.0->spacy) (7.1.2)\n",
      "Requirement already satisfied: MarkupSafe>=0.23 in d:\\anaconda\\lib\\site-packages (from jinja2->spacy) (1.1.1)\n"
     ]
    }
   ],
   "source": [
    "!pip install spacy"
   ]
  },
  {
   "cell_type": "code",
   "execution_count": 2,
   "id": "721505e2",
   "metadata": {},
   "outputs": [],
   "source": [
    "import pandas as pd\n",
    "import numpy as np\n",
    "\n",
    "import spacy\n",
    "from spacy import displacy"
   ]
  },
  {
   "cell_type": "code",
   "execution_count": 3,
   "id": "a2b05db0",
   "metadata": {},
   "outputs": [
    {
     "name": "stdout",
     "output_type": "stream",
     "text": [
      "Collecting ru-core-news-md==3.3.0\n",
      "  Downloading https://github.com/explosion/spacy-models/releases/download/ru_core_news_md-3.3.0/ru_core_news_md-3.3.0-py3-none-any.whl (41.9 MB)\n",
      "Requirement already satisfied: pymorphy2>=0.9 in d:\\anaconda\\lib\\site-packages (from ru-core-news-md==3.3.0) (0.9.1)\n",
      "Requirement already satisfied: spacy<3.4.0,>=3.3.0.dev0 in d:\\anaconda\\lib\\site-packages (from ru-core-news-md==3.3.0) (3.3.1)\n",
      "Requirement already satisfied: dawg-python>=0.7.1 in d:\\anaconda\\lib\\site-packages (from pymorphy2>=0.9->ru-core-news-md==3.3.0) (0.7.2)\n",
      "Requirement already satisfied: pymorphy2-dicts-ru<3.0,>=2.4 in d:\\anaconda\\lib\\site-packages (from pymorphy2>=0.9->ru-core-news-md==3.3.0) (2.4.417127.4579844)\n",
      "Requirement already satisfied: docopt>=0.6 in d:\\anaconda\\lib\\site-packages (from pymorphy2>=0.9->ru-core-news-md==3.3.0) (0.6.2)\n",
      "Requirement already satisfied: srsly<3.0.0,>=2.4.3 in d:\\anaconda\\lib\\site-packages (from spacy<3.4.0,>=3.3.0.dev0->ru-core-news-md==3.3.0) (2.4.3)\n",
      "Requirement already satisfied: catalogue<2.1.0,>=2.0.6 in d:\\anaconda\\lib\\site-packages (from spacy<3.4.0,>=3.3.0.dev0->ru-core-news-md==3.3.0) (2.0.7)\n",
      "Requirement already satisfied: requests<3.0.0,>=2.13.0 in d:\\anaconda\\lib\\site-packages (from spacy<3.4.0,>=3.3.0.dev0->ru-core-news-md==3.3.0) (2.25.1)\n",
      "Requirement already satisfied: preshed<3.1.0,>=3.0.2 in d:\\anaconda\\lib\\site-packages (from spacy<3.4.0,>=3.3.0.dev0->ru-core-news-md==3.3.0) (3.0.6)\n",
      "Requirement already satisfied: cymem<2.1.0,>=2.0.2 in d:\\anaconda\\lib\\site-packages (from spacy<3.4.0,>=3.3.0.dev0->ru-core-news-md==3.3.0) (2.0.6)\n",
      "Requirement already satisfied: pydantic!=1.8,!=1.8.1,<1.9.0,>=1.7.4 in d:\\anaconda\\lib\\site-packages (from spacy<3.4.0,>=3.3.0.dev0->ru-core-news-md==3.3.0) (1.8.2)\n",
      "Requirement already satisfied: setuptools in d:\\anaconda\\lib\\site-packages (from spacy<3.4.0,>=3.3.0.dev0->ru-core-news-md==3.3.0) (52.0.0.post20210125)\n",
      "Requirement already satisfied: spacy-loggers<2.0.0,>=1.0.0 in d:\\anaconda\\lib\\site-packages (from spacy<3.4.0,>=3.3.0.dev0->ru-core-news-md==3.3.0) (1.0.2)\n",
      "Requirement already satisfied: murmurhash<1.1.0,>=0.28.0 in d:\\anaconda\\lib\\site-packages (from spacy<3.4.0,>=3.3.0.dev0->ru-core-news-md==3.3.0) (1.0.7)\n",
      "Requirement already satisfied: jinja2 in d:\\anaconda\\lib\\site-packages (from spacy<3.4.0,>=3.3.0.dev0->ru-core-news-md==3.3.0) (2.11.3)\n",
      "Requirement already satisfied: typer<0.5.0,>=0.3.0 in d:\\anaconda\\lib\\site-packages (from spacy<3.4.0,>=3.3.0.dev0->ru-core-news-md==3.3.0) (0.4.1)\n",
      "Requirement already satisfied: wasabi<1.1.0,>=0.9.1 in d:\\anaconda\\lib\\site-packages (from spacy<3.4.0,>=3.3.0.dev0->ru-core-news-md==3.3.0) (0.9.1)\n",
      "Requirement already satisfied: spacy-legacy<3.1.0,>=3.0.9 in d:\\anaconda\\lib\\site-packages (from spacy<3.4.0,>=3.3.0.dev0->ru-core-news-md==3.3.0) (3.0.9)\n",
      "Requirement already satisfied: pathy>=0.3.5 in d:\\anaconda\\lib\\site-packages (from spacy<3.4.0,>=3.3.0.dev0->ru-core-news-md==3.3.0) (0.6.1)\n",
      "Requirement already satisfied: numpy>=1.15.0 in d:\\anaconda\\lib\\site-packages (from spacy<3.4.0,>=3.3.0.dev0->ru-core-news-md==3.3.0) (1.20.1)\n",
      "Requirement already satisfied: packaging>=20.0 in d:\\anaconda\\lib\\site-packages (from spacy<3.4.0,>=3.3.0.dev0->ru-core-news-md==3.3.0) (20.9)\n",
      "Requirement already satisfied: thinc<8.1.0,>=8.0.14 in d:\\anaconda\\lib\\site-packages (from spacy<3.4.0,>=3.3.0.dev0->ru-core-news-md==3.3.0) (8.0.17)\n",
      "Requirement already satisfied: langcodes<4.0.0,>=3.2.0 in d:\\anaconda\\lib\\site-packages (from spacy<3.4.0,>=3.3.0.dev0->ru-core-news-md==3.3.0) (3.3.0)\n",
      "Requirement already satisfied: blis<0.8.0,>=0.4.0 in d:\\anaconda\\lib\\site-packages (from spacy<3.4.0,>=3.3.0.dev0->ru-core-news-md==3.3.0) (0.7.7)\n",
      "Requirement already satisfied: tqdm<5.0.0,>=4.38.0 in d:\\anaconda\\lib\\site-packages (from spacy<3.4.0,>=3.3.0.dev0->ru-core-news-md==3.3.0) (4.59.0)\n",
      "Requirement already satisfied: pyparsing>=2.0.2 in d:\\anaconda\\lib\\site-packages (from packaging>=20.0->spacy<3.4.0,>=3.3.0.dev0->ru-core-news-md==3.3.0) (2.4.7)\n",
      "Requirement already satisfied: smart-open<6.0.0,>=5.0.0 in d:\\anaconda\\lib\\site-packages (from pathy>=0.3.5->spacy<3.4.0,>=3.3.0.dev0->ru-core-news-md==3.3.0) (5.2.1)\n",
      "Requirement already satisfied: typing-extensions>=3.7.4.3 in d:\\anaconda\\lib\\site-packages (from pydantic!=1.8,!=1.8.1,<1.9.0,>=1.7.4->spacy<3.4.0,>=3.3.0.dev0->ru-core-news-md==3.3.0) (3.7.4.3)\n",
      "Requirement already satisfied: chardet<5,>=3.0.2 in d:\\anaconda\\lib\\site-packages (from requests<3.0.0,>=2.13.0->spacy<3.4.0,>=3.3.0.dev0->ru-core-news-md==3.3.0) (4.0.0)\n",
      "Requirement already satisfied: idna<3,>=2.5 in d:\\anaconda\\lib\\site-packages (from requests<3.0.0,>=2.13.0->spacy<3.4.0,>=3.3.0.dev0->ru-core-news-md==3.3.0) (2.10)\n",
      "Requirement already satisfied: urllib3<1.27,>=1.21.1 in d:\\anaconda\\lib\\site-packages (from requests<3.0.0,>=2.13.0->spacy<3.4.0,>=3.3.0.dev0->ru-core-news-md==3.3.0) (1.26.4)\n",
      "Requirement already satisfied: certifi>=2017.4.17 in d:\\anaconda\\lib\\site-packages (from requests<3.0.0,>=2.13.0->spacy<3.4.0,>=3.3.0.dev0->ru-core-news-md==3.3.0) (2020.12.5)\n",
      "Requirement already satisfied: click<9.0.0,>=7.1.1 in d:\\anaconda\\lib\\site-packages (from typer<0.5.0,>=0.3.0->spacy<3.4.0,>=3.3.0.dev0->ru-core-news-md==3.3.0) (7.1.2)\n",
      "Requirement already satisfied: MarkupSafe>=0.23 in d:\\anaconda\\lib\\site-packages (from jinja2->spacy<3.4.0,>=3.3.0.dev0->ru-core-news-md==3.3.0) (1.1.1)\n",
      "[+] Download and installation successful\n",
      "You can now load the package via spacy.load('ru_core_news_md')\n"
     ]
    }
   ],
   "source": [
    "!python -m spacy download ru_core_news_md"
   ]
  },
  {
   "cell_type": "code",
   "execution_count": 4,
   "id": "200cf231",
   "metadata": {},
   "outputs": [],
   "source": [
    "rus_sp_model = spacy.load('ru_core_news_md')"
   ]
  },
  {
   "cell_type": "markdown",
   "id": "0a81da67",
   "metadata": {},
   "source": [
    "## Loading data"
   ]
  },
  {
   "cell_type": "code",
   "execution_count": 5,
   "id": "726c32be",
   "metadata": {
    "scrolled": true
   },
   "outputs": [
    {
     "name": "stdout",
     "output_type": "stream",
     "text": [
      "Wall time: 566 ms\n"
     ]
    }
   ],
   "source": [
    "%%time\n",
    "data = pd.read_json('data/mos_ru.json')"
   ]
  },
  {
   "cell_type": "code",
   "execution_count": 6,
   "id": "675e2e8f",
   "metadata": {
    "scrolled": true
   },
   "outputs": [
    {
     "data": {
      "text/plain": [
       "(5711, 3)"
      ]
     },
     "execution_count": 6,
     "metadata": {},
     "output_type": "execute_result"
    }
   ],
   "source": [
    "data.shape"
   ]
  },
  {
   "cell_type": "code",
   "execution_count": 7,
   "id": "7ec43fe9",
   "metadata": {
    "scrolled": true
   },
   "outputs": [
    {
     "data": {
      "text/html": [
       "<div>\n",
       "<style scoped>\n",
       "    .dataframe tbody tr th:only-of-type {\n",
       "        vertical-align: middle;\n",
       "    }\n",
       "\n",
       "    .dataframe tbody tr th {\n",
       "        vertical-align: top;\n",
       "    }\n",
       "\n",
       "    .dataframe thead th {\n",
       "        text-align: right;\n",
       "    }\n",
       "</style>\n",
       "<table border=\"1\" class=\"dataframe\">\n",
       "  <thead>\n",
       "    <tr style=\"text-align: right;\">\n",
       "      <th></th>\n",
       "      <th>id</th>\n",
       "      <th>title</th>\n",
       "      <th>full_text</th>\n",
       "    </tr>\n",
       "  </thead>\n",
       "  <tbody>\n",
       "    <tr>\n",
       "      <th>0</th>\n",
       "      <td>108157073</td>\n",
       "      <td>На Ливенской улице построят дом по программе р...</td>\n",
       "      <td>В районе Южное Бутово по программе реновации п...</td>\n",
       "    </tr>\n",
       "    <tr>\n",
       "      <th>1</th>\n",
       "      <td>108162073</td>\n",
       "      <td>Более четырех тысяч человек будут обеспечивать...</td>\n",
       "      <td>Более 4,4 тысячи сотрудников московских служб ...</td>\n",
       "    </tr>\n",
       "    <tr>\n",
       "      <th>2</th>\n",
       "      <td>108148073</td>\n",
       "      <td>Данные о 43 тысячах квартир в новостройках по ...</td>\n",
       "      <td>Данные о 43 тысячах квартир в новостройках вне...</td>\n",
       "    </tr>\n",
       "    <tr>\n",
       "      <th>3</th>\n",
       "      <td>108173073</td>\n",
       "      <td>Лилии, атланты и львы: где искать московский м...</td>\n",
       "      <td>Модерн занимает особое место в архитектуре Мос...</td>\n",
       "    </tr>\n",
       "    <tr>\n",
       "      <th>4</th>\n",
       "      <td>108124073</td>\n",
       "      <td>Масштабные панно и светящиеся шары: ко Дню Рос...</td>\n",
       "      <td>В парке «Зарядье» ко Дню России открылся арт-п...</td>\n",
       "    </tr>\n",
       "  </tbody>\n",
       "</table>\n",
       "</div>"
      ],
      "text/plain": [
       "          id                                              title  \\\n",
       "0  108157073  На Ливенской улице построят дом по программе р...   \n",
       "1  108162073  Более четырех тысяч человек будут обеспечивать...   \n",
       "2  108148073  Данные о 43 тысячах квартир в новостройках по ...   \n",
       "3  108173073  Лилии, атланты и львы: где искать московский м...   \n",
       "4  108124073  Масштабные панно и светящиеся шары: ко Дню Рос...   \n",
       "\n",
       "                                           full_text  \n",
       "0  В районе Южное Бутово по программе реновации п...  \n",
       "1  Более 4,4 тысячи сотрудников московских служб ...  \n",
       "2  Данные о 43 тысячах квартир в новостройках вне...  \n",
       "3  Модерн занимает особое место в архитектуре Мос...  \n",
       "4  В парке «Зарядье» ко Дню России открылся арт-п...  "
      ]
     },
     "execution_count": 7,
     "metadata": {},
     "output_type": "execute_result"
    }
   ],
   "source": [
    "data.head()"
   ]
  },
  {
   "cell_type": "code",
   "execution_count": 8,
   "id": "1acbc190",
   "metadata": {
    "scrolled": true
   },
   "outputs": [
    {
     "data": {
      "text/plain": [
       "(5711,)"
      ]
     },
     "execution_count": 8,
     "metadata": {},
     "output_type": "execute_result"
    }
   ],
   "source": [
    "data.full_text.unique().shape"
   ]
  },
  {
   "cell_type": "markdown",
   "id": "b77a763b",
   "metadata": {},
   "source": [
    "## Entity extraction"
   ]
  },
  {
   "cell_type": "code",
   "execution_count": 9,
   "id": "e3fd070a",
   "metadata": {},
   "outputs": [],
   "source": [
    "np.random.seed(3010)"
   ]
  },
  {
   "cell_type": "code",
   "execution_count": 10,
   "id": "1b3f3124",
   "metadata": {},
   "outputs": [
    {
     "name": "stdout",
     "output_type": "stream",
     "text": [
      "Wall time: 162 ms\n"
     ]
    }
   ],
   "source": [
    "%%time\n",
    "rand_text_id = np.random.randint(0, data.shape[0])\n",
    "processed_text = [(X.text, X.label_) for X in rus_sp_model(data.full_text[rand_text_id]).ents]"
   ]
  },
  {
   "cell_type": "code",
   "execution_count": 11,
   "id": "8b08ff85",
   "metadata": {},
   "outputs": [
    {
     "name": "stdout",
     "output_type": "stream",
     "text": [
      "Text example: \n",
      "17 ноября пройдет новый розыгрыш в рамках акции «Вакцина — твой ключ к здоровью!». Двое победителей станут обладателями однокомнатных квартир в столице.\n",
      "В розыгрыше примут участие москвичи старше 18 лет, которые получили первый компонент вакцины от коронавируса или прошли ревакцинацию с 8 по 14 ноября. Победителей выберут в прямом эфире телеканала «Москва 24», их имена и последние цифры телефона также опубликуют на портале mos.ru.\n",
      "Проверить, вошли ли вы в число победителей, можно с помощью специального сервиса, указав номер полиса ОМС.\n",
      "10 однокомнатных квартир разыгрывают по инициативе Московской торгово-промышленной палаты в качестве одной из мер, стимулирующих вакцинацию.\n",
      "Сделать прививку от COVID-19 можно бесплатно по предварительной записи в одном из центров вакцинации на базе поликлиник, а также без записи в точках работы выездных бригад в общественных местах. В вакцинации участвуют и частные клиники, которые заключили соглашения с Департаментом здравоохранения города Москвы.\n",
      "Москвичи старшего возраста при вакцинации также получают на выбор подарочные наборы «С заботой о здоровье» или денежную компенсацию. \n",
      "\n",
      "Found keywords: \n",
      "[('Москва 24', 'ORG'), ('Московской торгово-промышленной палаты', 'ORG'), ('Департаментом здравоохранения', 'ORG'), ('Москвы', 'LOC')]\n"
     ]
    }
   ],
   "source": [
    "print(\"Text example: \")\n",
    "print(data.full_text[rand_text_id])\n",
    "print()\n",
    "print(\"Found keywords: \")\n",
    "print(processed_text)"
   ]
  },
  {
   "cell_type": "markdown",
   "id": "4b7eebc3",
   "metadata": {},
   "source": [
    "## Most frequent words"
   ]
  },
  {
   "cell_type": "markdown",
   "id": "92c2c0c6",
   "metadata": {},
   "source": [
    "    Finding most frequent words, may be it will be usefull for storing texts"
   ]
  },
  {
   "cell_type": "code",
   "execution_count": 12,
   "id": "a378fd48",
   "metadata": {},
   "outputs": [],
   "source": [
    "from string import punctuation\n",
    "from collections import Counter"
   ]
  },
  {
   "cell_type": "code",
   "execution_count": 13,
   "id": "c4b15ace",
   "metadata": {},
   "outputs": [],
   "source": [
    "def get_tokens(text):\n",
    "    result = []\n",
    "    pos_tag = ['PROPN', 'ADJ', 'NOUN'] # 1\n",
    "    doc = rus_sp_model(text.lower()) # 2\n",
    "    \n",
    "    for token in doc:\n",
    "        # 3\n",
    "        if(token.text in rus_sp_model.Defaults.stop_words or token.text in punctuation):\n",
    "            continue\n",
    "        # 4\n",
    "        if(token.pos_ in pos_tag):\n",
    "            result.append(token.text)\n",
    "                \n",
    "    return result # 5"
   ]
  },
  {
   "cell_type": "code",
   "execution_count": 14,
   "id": "23c38330",
   "metadata": {},
   "outputs": [],
   "source": [
    "tokens = get_tokens(data.full_text[rand_text_id])"
   ]
  },
  {
   "cell_type": "code",
   "execution_count": 15,
   "id": "ec1a9712",
   "metadata": {},
   "outputs": [],
   "source": [
    "most_freq_words = Counter(tokens).most_common(25)"
   ]
  },
  {
   "cell_type": "code",
   "execution_count": 16,
   "id": "a5d80d12",
   "metadata": {},
   "outputs": [
    {
     "data": {
      "text/plain": [
       "[('победителей', 3),\n",
       " ('вакцинации', 3),\n",
       " ('ноября', 2),\n",
       " ('однокомнатных', 2),\n",
       " ('квартир', 2),\n",
       " ('москвичи', 2),\n",
       " ('записи', 2),\n",
       " ('17', 1),\n",
       " ('новый', 1),\n",
       " ('розыгрыш', 1),\n",
       " ('рамках', 1),\n",
       " ('акции', 1),\n",
       " ('вакцина', 1),\n",
       " ('ключ', 1),\n",
       " ('здоровью', 1),\n",
       " ('обладателями', 1),\n",
       " ('столице', 1),\n",
       " ('розыгрыше', 1),\n",
       " ('участие', 1),\n",
       " ('старше', 1),\n",
       " ('лет', 1),\n",
       " ('первый', 1),\n",
       " ('компонент', 1),\n",
       " ('вакцины', 1),\n",
       " ('коронавируса', 1)]"
      ]
     },
     "execution_count": 16,
     "metadata": {},
     "output_type": "execute_result"
    }
   ],
   "source": [
    "most_freq_words"
   ]
  }
 ],
 "metadata": {
  "kernelspec": {
   "display_name": "Python 3",
   "language": "python",
   "name": "python3"
  },
  "language_info": {
   "codemirror_mode": {
    "name": "ipython",
    "version": 3
   },
   "file_extension": ".py",
   "mimetype": "text/x-python",
   "name": "python",
   "nbconvert_exporter": "python",
   "pygments_lexer": "ipython3",
   "version": "3.8.8"
  }
 },
 "nbformat": 4,
 "nbformat_minor": 5
}
